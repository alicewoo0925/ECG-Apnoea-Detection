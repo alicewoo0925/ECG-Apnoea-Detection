{
  "nbformat": 4,
  "nbformat_minor": 0,
  "metadata": {
    "colab": {
      "provenance": [],
      "include_colab_link": true
    },
    "kernelspec": {
      "name": "python3",
      "display_name": "Python 3"
    },
    "language_info": {
      "name": "python"
    }
  },
  "cells": [
    {
      "cell_type": "markdown",
      "metadata": {
        "id": "view-in-github",
        "colab_type": "text"
      },
      "source": [
        "<a href=\"https://colab.research.google.com/github/alicewoo0925/ECG-Apnoea-Detection/blob/main/Model_comparison.ipynb\" target=\"_parent\"><img src=\"https://colab.research.google.com/assets/colab-badge.svg\" alt=\"Open In Colab\"/></a>"
      ]
    },
    {
      "cell_type": "code",
      "execution_count": null,
      "metadata": {
        "id": "BxAqFtqOYEUi"
      },
      "outputs": [],
      "source": [
        "import numpy as np\n",
        "import pandas as pd\n",
        "import matplotlib.pyplot as plt\n",
        "from sklearn.preprocessing import StandardScaler,RobustScaler,MinMaxScaler\n",
        "from imblearn.over_sampling import RandomOverSampler, SMOTE"
      ]
    },
    {
      "cell_type": "code",
      "source": [
        "feature_cols = [\"RRset_mean\",\"log(RRseg_std)\",\"log(SDSD)\",\"RMSSD\",\"RRseg_triI\"] #name of the features\n",
        "result_cols = [\"A\",\"N\"] #classification results of the training set #used one-hot coding\n",
        "cols = [\"RRset_mean\",\"log(RRseg_std)\",\"log(SDSD)\",\"RMSSD\",\"RRseg_triI\",\"A\"] #name of the features\n",
        "\n",
        "X_train_df = pd.read_csv(\"X_train.csv\", names=feature_cols)\n",
        "T_train_df = pd.read_csv(\"T_train.csv\", names=result_cols)\n",
        "\n",
        "X_train_df.head()\n",
        "T_train_df.head()\n",
        "\n",
        "df = pd.concat([X_train_df,T_train_df], axis=1)\n",
        "del df['N']\n",
        "df.head()"
      ],
      "metadata": {
        "id": "9iDjk7C3YO1T",
        "colab": {
          "base_uri": "https://localhost:8080/",
          "height": 206
        },
        "outputId": "853d33c2-d1ff-42c4-afd9-f1670b7d044c"
      },
      "execution_count": null,
      "outputs": [
        {
          "output_type": "execute_result",
          "data": {
            "text/plain": [
              "   RRset_mean  log(RRseg_std)  log(SDSD)     RMSSD  RRseg_triI  A\n",
              "0     1.03070         -3.2674    -3.4358  0.031926      5.5556  0\n",
              "1     0.93625         -1.5161    -1.4311  0.237140      3.8462  0\n",
              "2     0.99066         -2.1771    -2.3040  0.099071      5.5556  0\n",
              "3     1.03140         -2.7058    -2.8820  0.055551      4.5455  0\n",
              "4     0.95794         -1.7164    -1.8649  0.153660      7.1429  0"
            ],
            "text/html": [
              "\n",
              "  <div id=\"df-adbf6be8-ad8d-4362-a9bd-065df450c6c8\">\n",
              "    <div class=\"colab-df-container\">\n",
              "      <div>\n",
              "<style scoped>\n",
              "    .dataframe tbody tr th:only-of-type {\n",
              "        vertical-align: middle;\n",
              "    }\n",
              "\n",
              "    .dataframe tbody tr th {\n",
              "        vertical-align: top;\n",
              "    }\n",
              "\n",
              "    .dataframe thead th {\n",
              "        text-align: right;\n",
              "    }\n",
              "</style>\n",
              "<table border=\"1\" class=\"dataframe\">\n",
              "  <thead>\n",
              "    <tr style=\"text-align: right;\">\n",
              "      <th></th>\n",
              "      <th>RRset_mean</th>\n",
              "      <th>log(RRseg_std)</th>\n",
              "      <th>log(SDSD)</th>\n",
              "      <th>RMSSD</th>\n",
              "      <th>RRseg_triI</th>\n",
              "      <th>A</th>\n",
              "    </tr>\n",
              "  </thead>\n",
              "  <tbody>\n",
              "    <tr>\n",
              "      <th>0</th>\n",
              "      <td>1.03070</td>\n",
              "      <td>-3.2674</td>\n",
              "      <td>-3.4358</td>\n",
              "      <td>0.031926</td>\n",
              "      <td>5.5556</td>\n",
              "      <td>0</td>\n",
              "    </tr>\n",
              "    <tr>\n",
              "      <th>1</th>\n",
              "      <td>0.93625</td>\n",
              "      <td>-1.5161</td>\n",
              "      <td>-1.4311</td>\n",
              "      <td>0.237140</td>\n",
              "      <td>3.8462</td>\n",
              "      <td>0</td>\n",
              "    </tr>\n",
              "    <tr>\n",
              "      <th>2</th>\n",
              "      <td>0.99066</td>\n",
              "      <td>-2.1771</td>\n",
              "      <td>-2.3040</td>\n",
              "      <td>0.099071</td>\n",
              "      <td>5.5556</td>\n",
              "      <td>0</td>\n",
              "    </tr>\n",
              "    <tr>\n",
              "      <th>3</th>\n",
              "      <td>1.03140</td>\n",
              "      <td>-2.7058</td>\n",
              "      <td>-2.8820</td>\n",
              "      <td>0.055551</td>\n",
              "      <td>4.5455</td>\n",
              "      <td>0</td>\n",
              "    </tr>\n",
              "    <tr>\n",
              "      <th>4</th>\n",
              "      <td>0.95794</td>\n",
              "      <td>-1.7164</td>\n",
              "      <td>-1.8649</td>\n",
              "      <td>0.153660</td>\n",
              "      <td>7.1429</td>\n",
              "      <td>0</td>\n",
              "    </tr>\n",
              "  </tbody>\n",
              "</table>\n",
              "</div>\n",
              "      <button class=\"colab-df-convert\" onclick=\"convertToInteractive('df-adbf6be8-ad8d-4362-a9bd-065df450c6c8')\"\n",
              "              title=\"Convert this dataframe to an interactive table.\"\n",
              "              style=\"display:none;\">\n",
              "        \n",
              "  <svg xmlns=\"http://www.w3.org/2000/svg\" height=\"24px\"viewBox=\"0 0 24 24\"\n",
              "       width=\"24px\">\n",
              "    <path d=\"M0 0h24v24H0V0z\" fill=\"none\"/>\n",
              "    <path d=\"M18.56 5.44l.94 2.06.94-2.06 2.06-.94-2.06-.94-.94-2.06-.94 2.06-2.06.94zm-11 1L8.5 8.5l.94-2.06 2.06-.94-2.06-.94L8.5 2.5l-.94 2.06-2.06.94zm10 10l.94 2.06.94-2.06 2.06-.94-2.06-.94-.94-2.06-.94 2.06-2.06.94z\"/><path d=\"M17.41 7.96l-1.37-1.37c-.4-.4-.92-.59-1.43-.59-.52 0-1.04.2-1.43.59L10.3 9.45l-7.72 7.72c-.78.78-.78 2.05 0 2.83L4 21.41c.39.39.9.59 1.41.59.51 0 1.02-.2 1.41-.59l7.78-7.78 2.81-2.81c.8-.78.8-2.07 0-2.86zM5.41 20L4 18.59l7.72-7.72 1.47 1.35L5.41 20z\"/>\n",
              "  </svg>\n",
              "      </button>\n",
              "      \n",
              "  <style>\n",
              "    .colab-df-container {\n",
              "      display:flex;\n",
              "      flex-wrap:wrap;\n",
              "      gap: 12px;\n",
              "    }\n",
              "\n",
              "    .colab-df-convert {\n",
              "      background-color: #E8F0FE;\n",
              "      border: none;\n",
              "      border-radius: 50%;\n",
              "      cursor: pointer;\n",
              "      display: none;\n",
              "      fill: #1967D2;\n",
              "      height: 32px;\n",
              "      padding: 0 0 0 0;\n",
              "      width: 32px;\n",
              "    }\n",
              "\n",
              "    .colab-df-convert:hover {\n",
              "      background-color: #E2EBFA;\n",
              "      box-shadow: 0px 1px 2px rgba(60, 64, 67, 0.3), 0px 1px 3px 1px rgba(60, 64, 67, 0.15);\n",
              "      fill: #174EA6;\n",
              "    }\n",
              "\n",
              "    [theme=dark] .colab-df-convert {\n",
              "      background-color: #3B4455;\n",
              "      fill: #D2E3FC;\n",
              "    }\n",
              "\n",
              "    [theme=dark] .colab-df-convert:hover {\n",
              "      background-color: #434B5C;\n",
              "      box-shadow: 0px 1px 3px 1px rgba(0, 0, 0, 0.15);\n",
              "      filter: drop-shadow(0px 1px 2px rgba(0, 0, 0, 0.3));\n",
              "      fill: #FFFFFF;\n",
              "    }\n",
              "  </style>\n",
              "\n",
              "      <script>\n",
              "        const buttonEl =\n",
              "          document.querySelector('#df-adbf6be8-ad8d-4362-a9bd-065df450c6c8 button.colab-df-convert');\n",
              "        buttonEl.style.display =\n",
              "          google.colab.kernel.accessAllowed ? 'block' : 'none';\n",
              "\n",
              "        async function convertToInteractive(key) {\n",
              "          const element = document.querySelector('#df-adbf6be8-ad8d-4362-a9bd-065df450c6c8');\n",
              "          const dataTable =\n",
              "            await google.colab.kernel.invokeFunction('convertToInteractive',\n",
              "                                                     [key], {});\n",
              "          if (!dataTable) return;\n",
              "\n",
              "          const docLinkHtml = 'Like what you see? Visit the ' +\n",
              "            '<a target=\"_blank\" href=https://colab.research.google.com/notebooks/data_table.ipynb>data table notebook</a>'\n",
              "            + ' to learn more about interactive tables.';\n",
              "          element.innerHTML = '';\n",
              "          dataTable['output_type'] = 'display_data';\n",
              "          await google.colab.output.renderOutput(dataTable, element);\n",
              "          const docLink = document.createElement('div');\n",
              "          docLink.innerHTML = docLinkHtml;\n",
              "          element.appendChild(docLink);\n",
              "        }\n",
              "      </script>\n",
              "    </div>\n",
              "  </div>\n",
              "  "
            ]
          },
          "metadata": {},
          "execution_count": 53
        }
      ]
    },
    {
      "cell_type": "code",
      "source": [
        "# get rid of all NaN\n",
        "df = df.dropna()"
      ],
      "metadata": {
        "id": "RPDK0eSfbpka"
      },
      "execution_count": null,
      "outputs": []
    },
    {
      "cell_type": "code",
      "source": [
        "from sklearn.model_selection import train_test_split\n",
        "\n",
        "X = df[df.columns[:-1]].values\n",
        "y = df[df.columns[-1]].values\n",
        "scaler = MinMaxScaler()\n",
        "X = scaler.fit_transform(X)\n",
        "smote = SMOTE(random_state=42)\n",
        "X, y = smote.fit_resample(X, y)\n",
        "\n",
        "X_train, X_test, y_train, y_test = train_test_split(X, y, test_size=0.20, random_state=4)\n"
      ],
      "metadata": {
        "id": "4p9TRMrdbt9p"
      },
      "execution_count": null,
      "outputs": []
    },
    {
      "cell_type": "markdown",
      "source": [
        "# 1. Run without scaler and oversampling"
      ],
      "metadata": {
        "id": "-6Cb73-9c2Q3"
      }
    },
    {
      "cell_type": "markdown",
      "source": [
        "##KNN"
      ],
      "metadata": {
        "id": "jeDsNW5DdHnJ"
      }
    },
    {
      "cell_type": "code",
      "source": [
        "from sklearn.neighbors import KNeighborsClassifier\n",
        "from sklearn.metrics import classification_report\n",
        "\n",
        "knn_model = KNeighborsClassifier(n_neighbors=5)\n",
        "knn_model.fit(X_train, y_train)\n",
        "\n",
        "y_pred = knn_model.predict(X_test)"
      ],
      "metadata": {
        "id": "0_zGhajZcyNI"
      },
      "execution_count": null,
      "outputs": []
    },
    {
      "cell_type": "code",
      "source": [
        "# confusion matrix\n",
        "def print_result (y_test, y_pred):\n",
        "\n",
        "  from sklearn.metrics import confusion_matrix, accuracy_score, cohen_kappa_score, roc_auc_score, f1_score\n",
        "  tn, fp, fn, tp = confusion_matrix(y_test, y_pred).ravel()\n",
        "\n",
        "  sensitivity = tp/(tp+fn)\n",
        "  specificity = tn/(tn+fp)\n",
        "  accuracy = accuracy_score(y_test, y_pred)\n",
        "  PPV = tp/(tp+fp)\n",
        "  NPV = tn/(tn+fn)\n",
        "  kappa = cohen_kappa_score(y_test, y_pred)\n",
        "  AUROC = roc_auc_score(y_test, y_pred)\n",
        "  f1 = f1_score(y_test, y_pred)\n",
        "\n",
        "  print(\"Sensitivity : %5.3f, Specificity: %5.3f, Accuracy: %5.3f, PPV: %5.3f, NPV: %5.3f, f1: %5.3f, Cohen's Kappa: %5.3f, AUROC: %5.3f\"\n",
        "        % (sensitivity, specificity, accuracy, PPV, NPV, f1, kappa, AUROC))\n",
        "\n",
        "  return sensitivity, specificity, accuracy, PPV, NPV, f1, kappa, AUROC\n"
      ],
      "metadata": {
        "id": "jWB3e5lhdvXn"
      },
      "execution_count": null,
      "outputs": []
    },
    {
      "cell_type": "code",
      "source": [
        "sensitivity, specificity, accuracy, PPV, NPV, f1, kappa, AUROC = print_result(y_test, y_pred)"
      ],
      "metadata": {
        "colab": {
          "base_uri": "https://localhost:8080/"
        },
        "id": "_s5jlseYkklt",
        "outputId": "ecea8920-3950-4c94-917b-72418c6f784c"
      },
      "execution_count": null,
      "outputs": [
        {
          "output_type": "stream",
          "name": "stdout",
          "text": [
            "Sensitivity : 0.873, Specificity: 0.665, Accuracy: 0.768, PPV: 0.720, NPV: 0.842, f1: 0.789, Cohen's Kappa: 0.537, AUROC: 0.769\n"
          ]
        }
      ]
    },
    {
      "cell_type": "markdown",
      "source": [
        "Result:\n",
        "1. without scaler or oversampling\n",
        "\n",
        "Sensitivity : 0.329, Specificity: 0.864, Accuracy: 0.726, PPV: 0.458, NPV: 0.787, f1: 0.383, Cohen's Kappa: 0.213, AUROC: 0.597\n",
        "\n",
        "2.\n",
        "\n"
      ],
      "metadata": {
        "id": "LLWegDZdjenU"
      }
    },
    {
      "cell_type": "markdown",
      "source": [
        "## Naive Bayes"
      ],
      "metadata": {
        "id": "VayXUOXtkBZ2"
      }
    },
    {
      "cell_type": "code",
      "source": [
        "from sklearn.naive_bayes import GaussianNB\n",
        "\n",
        "nb_model = GaussianNB()\n",
        "nb_model = nb_model.fit(X_train, y_train)\n",
        "\n",
        "y_pred = nb_model.predict(X_test)\n",
        "\n",
        "sensitivity, specificity, accuracy, PPV, NPV, f1, kappa, AUROC = print_result(y_test, y_pred)"
      ],
      "metadata": {
        "colab": {
          "base_uri": "https://localhost:8080/"
        },
        "id": "-HpPB5bbkAZb",
        "outputId": "36f373ed-7c66-4f38-ccaa-5b1e2b442885"
      },
      "execution_count": null,
      "outputs": [
        {
          "output_type": "stream",
          "name": "stdout",
          "text": [
            "Sensitivity : 0.706, Specificity: 0.426, Accuracy: 0.565, PPV: 0.548, NPV: 0.595, f1: 0.617, Cohen's Kappa: 0.132, AUROC: 0.566\n"
          ]
        }
      ]
    },
    {
      "cell_type": "markdown",
      "source": [
        "Sensitivity : 0.074, Specificity: 0.975, Accuracy: 0.742, PPV: 0.506, NPV: 0.751, f1: 0.129, Cohen's Kappa: 0.068, AUROC: 0.524"
      ],
      "metadata": {
        "id": "CLWHJaQ9lC06"
      }
    },
    {
      "cell_type": "markdown",
      "source": [
        "## Log regression"
      ],
      "metadata": {
        "id": "ztFaSlwGlGiP"
      }
    },
    {
      "cell_type": "code",
      "source": [
        "from sklearn.linear_model import LogisticRegression\n",
        "lg_model = LogisticRegression()\n",
        "lg_model = lg_model.fit(X_train, y_train)\n",
        "y_pred = lg_model.predict(X_test)\n",
        "\n",
        "sensitivity, specificity, accuracy, PPV, NPV, f1, kappa, AUROC = print_result(y_test, y_pred)"
      ],
      "metadata": {
        "colab": {
          "base_uri": "https://localhost:8080/"
        },
        "id": "tBn9-oP8lFs9",
        "outputId": "5ed06376-8c50-4faf-a493-3ca36fded0d7"
      },
      "execution_count": null,
      "outputs": [
        {
          "output_type": "stream",
          "name": "stdout",
          "text": [
            "Sensitivity : 0.612, Specificity: 0.677, Accuracy: 0.645, PPV: 0.652, NPV: 0.639, f1: 0.631, Cohen's Kappa: 0.290, AUROC: 0.645\n"
          ]
        }
      ]
    },
    {
      "cell_type": "markdown",
      "source": [
        "Sensitivity : 0.145, Specificity: 0.956, Accuracy: 0.746, PPV: 0.534, NPV: 0.762, f1: 0.228, Cohen's Kappa: 0.132, AUROC: 0.550"
      ],
      "metadata": {
        "id": "yUibKZUplUHf"
      }
    },
    {
      "cell_type": "markdown",
      "source": [
        "## SVM"
      ],
      "metadata": {
        "id": "autgvfH8lVeZ"
      }
    },
    {
      "cell_type": "code",
      "source": [
        "from sklearn.svm import SVC\n",
        "\n",
        "svm_model = SVC()\n",
        "svm_model = svm_model.fit(X_train, y_train)\n",
        "\n",
        "y_pred = svm_model.predict(X_test)\n",
        "\n",
        "sensitivity, specificity, accuracy, PPV, NPV, f1, kappa, AUROC = print_result(y_test, y_pred)"
      ],
      "metadata": {
        "colab": {
          "base_uri": "https://localhost:8080/"
        },
        "id": "9G9HHwTrlejj",
        "outputId": "dba7c55b-c9d4-46e2-fa29-3fd9bbde9462"
      },
      "execution_count": null,
      "outputs": [
        {
          "output_type": "stream",
          "name": "stdout",
          "text": [
            "Sensitivity : 0.716, Specificity: 0.614, Accuracy: 0.665, PPV: 0.647, NPV: 0.687, f1: 0.680, Cohen's Kappa: 0.330, AUROC: 0.665\n"
          ]
        }
      ]
    },
    {
      "cell_type": "markdown",
      "source": [
        "Sensitivity : 0.000, Specificity: 1.000, Accuracy: 0.741, PPV:   nan, NPV: 0.741, f1: 0.000, Cohen's Kappa: 0.000, AUROC: 0.500\n",
        "\n",
        "!! RuntimeWarning: invalid value encountered in long_scalars\n",
        "\n"
      ],
      "metadata": {
        "id": "vU8YqFEglwYu"
      }
    },
    {
      "cell_type": "markdown",
      "source": [
        "## Random Forest"
      ],
      "metadata": {
        "id": "b-ECmq3Vl2EY"
      }
    },
    {
      "cell_type": "code",
      "source": [
        "from sklearn.ensemble import RandomForestClassifier\n",
        "\n",
        "rf_model = RandomForestClassifier()\n",
        "rf_model = rf_model.fit(X_train, y_train)\n",
        "\n",
        "y_pred = rf_model.predict(X_test)\n",
        "\n",
        "sensitivity, specificity, accuracy, PPV, NPV, f1, kappa, AUROC = print_result(y_test, y_pred)"
      ],
      "metadata": {
        "colab": {
          "base_uri": "https://localhost:8080/"
        },
        "id": "FfMXVp8zl6pE",
        "outputId": "e1610b74-5b9d-4c43-e9e4-9ffb0ad7f7ab"
      },
      "execution_count": null,
      "outputs": [
        {
          "output_type": "stream",
          "name": "stdout",
          "text": [
            "Sensitivity : 0.837, Specificity: 0.785, Accuracy: 0.811, PPV: 0.793, NPV: 0.830, f1: 0.814, Cohen's Kappa: 0.621, AUROC: 0.811\n"
          ]
        }
      ]
    },
    {
      "cell_type": "markdown",
      "source": [
        "Sensitivity : 0.305, Specificity: 0.903, Accuracy: 0.748, PPV: 0.522, NPV: 0.788, f1: 0.385, Cohen's Kappa: 0.240, AUROC: 0.604"
      ],
      "metadata": {
        "id": "pxQhK7NvmD2S"
      }
    },
    {
      "cell_type": "markdown",
      "source": [
        "## Decision Tree\n",
        "\n"
      ],
      "metadata": {
        "id": "reCjiWunmGKc"
      }
    },
    {
      "cell_type": "code",
      "source": [
        "from sklearn.tree import DecisionTreeClassifier\n",
        "\n",
        "tree_model = DecisionTreeClassifier()\n",
        "tree_model = tree_model.fit(X_train, y_train)\n",
        "\n",
        "y_pred = tree_model.predict(X_test)\n",
        "\n",
        "sensitivity, specificity, accuracy, PPV, NPV, f1, kappa, AUROC = print_result(y_test, y_pred)"
      ],
      "metadata": {
        "colab": {
          "base_uri": "https://localhost:8080/"
        },
        "id": "BcGnEavbnfvQ",
        "outputId": "91babb3b-daba-4493-f6a5-acaaaa72366e"
      },
      "execution_count": null,
      "outputs": [
        {
          "output_type": "stream",
          "name": "stdout",
          "text": [
            "Sensitivity : 0.772, Specificity: 0.734, Accuracy: 0.753, PPV: 0.741, NPV: 0.765, f1: 0.756, Cohen's Kappa: 0.506, AUROC: 0.753\n"
          ]
        }
      ]
    },
    {
      "cell_type": "markdown",
      "source": [
        "Sensitivity : 0.413, Specificity: 0.783, Accuracy: 0.687, PPV: 0.399, NPV: 0.793, f1: 0.406, Cohen's Kappa: 0.194, AUROC: 0.598"
      ],
      "metadata": {
        "id": "IgY6IQ4AnuGw"
      }
    },
    {
      "cell_type": "markdown",
      "source": [
        "## Linear Regression"
      ],
      "metadata": {
        "id": "4J0l-gurn1Fq"
      }
    },
    {
      "cell_type": "code",
      "source": [
        "from sklearn.linear_model import LinearRegression\n",
        "\n",
        "ln_model = LinearRegression()\n",
        "ln_model.fit(X_train, y_train)\n",
        "\n",
        "y_pred = ln_model.predict(X_test)\n",
        "\n",
        "#sensitivity, specificity, accuracy, PPV, NPV, f1, kappa, AUROC = print_result(y_test, y_pred)\n",
        "#CM_train=y_pred*y_pred;\n",
        "\n",
        "y_pred = np.round_(y_pred)\n",
        "sensitivity, specificity, accuracy, PPV, NPV, f1, kappa, AUROC = print_result(y_test, y_pred)\n"
      ],
      "metadata": {
        "colab": {
          "base_uri": "https://localhost:8080/"
        },
        "id": "_cibAjclnmAl",
        "outputId": "f37753ef-9c8e-4da1-abb9-a026ac60aac3"
      },
      "execution_count": null,
      "outputs": [
        {
          "output_type": "stream",
          "name": "stdout",
          "text": [
            "Sensitivity : 0.604, Specificity: 0.682, Accuracy: 0.643, PPV: 0.652, NPV: 0.636, f1: 0.627, Cohen's Kappa: 0.286, AUROC: 0.643\n"
          ]
        }
      ]
    },
    {
      "cell_type": "markdown",
      "source": [
        "Sensitivity : 0.117, Specificity: 0.965, Accuracy: 0.746, PPV: 0.539, NPV: 0.758, f1: 0.192, Cohen's Kappa: 0.110, AUROC: 0.541\n"
      ],
      "metadata": {
        "id": "vmTTvaxfqMXf"
      }
    },
    {
      "cell_type": "code",
      "source": [],
      "metadata": {
        "id": "KOdTm5MHoA9K"
      },
      "execution_count": null,
      "outputs": []
    }
  ]
}